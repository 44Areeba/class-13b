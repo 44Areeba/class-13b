{
 "cells": [
  {
   "cell_type": "markdown",
   "id": "5f6ed5e8",
   "metadata": {},
   "source": [
    "### what are exceptions?"
   ]
  },
  {
   "cell_type": "code",
   "execution_count": null,
   "id": "020fbe20",
   "metadata": {},
   "outputs": [],
   "source": [
    "#exception are run time error\n",
    "#Logical error\n",
    "#Unwanted conditions"
   ]
  },
  {
   "cell_type": "code",
   "execution_count": 1,
   "id": "05101d2b",
   "metadata": {},
   "outputs": [
    {
     "ename": "ZeroDivisionError",
     "evalue": "division by zero",
     "output_type": "error",
     "traceback": [
      "\u001b[1;31m---------------------------------------------------------------------------\u001b[0m",
      "\u001b[1;31mZeroDivisionError\u001b[0m                         Traceback (most recent call last)",
      "\u001b[1;32m<ipython-input-1-383ee9f41258>\u001b[0m in \u001b[0;36m<module>\u001b[1;34m\u001b[0m\n\u001b[0;32m      1\u001b[0m \u001b[1;31m#Python: int/int 3/4, 7/8\u001b[0m\u001b[1;33m\u001b[0m\u001b[1;33m\u001b[0m\u001b[1;33m\u001b[0m\u001b[0m\n\u001b[0;32m      2\u001b[0m \u001b[1;33m\u001b[0m\u001b[0m\n\u001b[1;32m----> 3\u001b[1;33m \u001b[1;36m1\u001b[0m\u001b[1;33m/\u001b[0m\u001b[1;36m0\u001b[0m \u001b[1;31m#int/int\u001b[0m\u001b[1;33m\u001b[0m\u001b[1;33m\u001b[0m\u001b[0m\n\u001b[0m",
      "\u001b[1;31mZeroDivisionError\u001b[0m: division by zero"
     ]
    }
   ],
   "source": [
    "#Python: int/int 3/4, 7/8\n",
    "\n",
    "1/0 #int/int"
   ]
  },
  {
   "cell_type": "code",
   "execution_count": 2,
   "id": "c3220e57",
   "metadata": {},
   "outputs": [
    {
     "ename": "ZeroDivisionError",
     "evalue": "division by zero",
     "output_type": "error",
     "traceback": [
      "\u001b[1;31m---------------------------------------------------------------------------\u001b[0m",
      "\u001b[1;31mZeroDivisionError\u001b[0m                         Traceback (most recent call last)",
      "\u001b[1;32m<ipython-input-2-b08bb9588763>\u001b[0m in \u001b[0;36m<module>\u001b[1;34m\u001b[0m\n\u001b[1;32m----> 1\u001b[1;33m \u001b[1;36m5\u001b[0m\u001b[1;33m/\u001b[0m\u001b[1;36m0\u001b[0m\u001b[1;33m\u001b[0m\u001b[1;33m\u001b[0m\u001b[0m\n\u001b[0m\u001b[0;32m      2\u001b[0m \u001b[0mprint\u001b[0m\u001b[1;33m(\u001b[0m\u001b[1;34m\"hello\"\u001b[0m\u001b[1;33m)\u001b[0m\u001b[1;33m\u001b[0m\u001b[1;33m\u001b[0m\u001b[0m\n",
      "\u001b[1;31mZeroDivisionError\u001b[0m: division by zero"
     ]
    }
   ],
   "source": [
    "5/0\n",
    "print(\"hello\")"
   ]
  },
  {
   "cell_type": "code",
   "execution_count": 4,
   "id": "fe836e8a",
   "metadata": {},
   "outputs": [
    {
     "name": "stdout",
     "output_type": "stream",
     "text": [
      "Enter a number6\n",
      "Enter a number0\n"
     ]
    },
    {
     "ename": "ZeroDivisionError",
     "evalue": "division by zero",
     "output_type": "error",
     "traceback": [
      "\u001b[1;31m---------------------------------------------------------------------------\u001b[0m",
      "\u001b[1;31mZeroDivisionError\u001b[0m                         Traceback (most recent call last)",
      "\u001b[1;32m<ipython-input-4-9318c7d5f817>\u001b[0m in \u001b[0;36m<module>\u001b[1;34m\u001b[0m\n\u001b[0;32m      4\u001b[0m \u001b[0mb\u001b[0m\u001b[1;33m=\u001b[0m\u001b[0mint\u001b[0m\u001b[1;33m(\u001b[0m\u001b[0minput\u001b[0m\u001b[1;33m(\u001b[0m\u001b[1;34m\"Enter a number\"\u001b[0m\u001b[1;33m)\u001b[0m\u001b[1;33m)\u001b[0m\u001b[1;33m\u001b[0m\u001b[1;33m\u001b[0m\u001b[0m\n\u001b[0;32m      5\u001b[0m \u001b[1;33m\u001b[0m\u001b[0m\n\u001b[1;32m----> 6\u001b[1;33m \u001b[0mc\u001b[0m\u001b[1;33m=\u001b[0m\u001b[0ma\u001b[0m\u001b[1;33m/\u001b[0m\u001b[0mb\u001b[0m\u001b[1;33m\u001b[0m\u001b[1;33m\u001b[0m\u001b[0m\n\u001b[0m\u001b[0;32m      7\u001b[0m \u001b[0mprint\u001b[0m\u001b[1;33m(\u001b[0m\u001b[0mc\u001b[0m\u001b[1;33m)\u001b[0m\u001b[1;33m\u001b[0m\u001b[1;33m\u001b[0m\u001b[0m\n",
      "\u001b[1;31mZeroDivisionError\u001b[0m: division by zero"
     ]
    }
   ],
   "source": [
    "# Syntax error & logical/Run time error\n",
    "\n",
    "a=int(input(\"Enter a number\"))\n",
    "b=int(input(\"Enter a number\"))\n",
    "\n",
    "c=a/b\n",
    "print(c)"
   ]
  },
  {
   "cell_type": "markdown",
   "id": "306fbaaa",
   "metadata": {},
   "source": [
    "### Exception Handling ###"
   ]
  },
  {
   "cell_type": "code",
   "execution_count": 7,
   "id": "d0952829",
   "metadata": {},
   "outputs": [
    {
     "name": "stdout",
     "output_type": "stream",
     "text": [
      "Enter a number4\n",
      "Enter a number4\n"
     ]
    },
    {
     "ename": "IndexError",
     "evalue": "list index out of range",
     "output_type": "error",
     "traceback": [
      "\u001b[1;31m---------------------------------------------------------------------------\u001b[0m",
      "\u001b[1;31mIndexError\u001b[0m                                Traceback (most recent call last)",
      "\u001b[1;32m<ipython-input-7-01012ba6c1a8>\u001b[0m in \u001b[0;36m<module>\u001b[1;34m\u001b[0m\n\u001b[0;32m      5\u001b[0m     \u001b[0mc\u001b[0m\u001b[1;33m=\u001b[0m\u001b[0ma\u001b[0m\u001b[1;33m/\u001b[0m\u001b[0mb\u001b[0m \u001b[1;31m# can be a zero division error\u001b[0m\u001b[1;33m\u001b[0m\u001b[1;33m\u001b[0m\u001b[0m\n\u001b[0;32m      6\u001b[0m \u001b[1;33m\u001b[0m\u001b[0m\n\u001b[1;32m----> 7\u001b[1;33m     \u001b[0mprint\u001b[0m\u001b[1;33m(\u001b[0m\u001b[0md\u001b[0m\u001b[1;33m[\u001b[0m\u001b[1;36m4\u001b[0m\u001b[1;33m]\u001b[0m\u001b[1;33m)\u001b[0m \u001b[1;31m# index error\u001b[0m\u001b[1;33m\u001b[0m\u001b[1;33m\u001b[0m\u001b[0m\n\u001b[0m\u001b[0;32m      8\u001b[0m \u001b[1;33m\u001b[0m\u001b[0m\n\u001b[0;32m      9\u001b[0m \u001b[1;33m\u001b[0m\u001b[0m\n",
      "\u001b[1;31mIndexError\u001b[0m: list index out of range"
     ]
    }
   ],
   "source": [
    "d=[]\n",
    "try:\n",
    "    a=int(input(\"Enter a number\"))# can be value error\n",
    "    b=int(input(\"Enter a number\"))# can be value error\n",
    "    c=a/b # can be a zero division error\n",
    "    \n",
    "    print(d[4]) # index error\n",
    "    \n",
    "    \n",
    "    #Handled Zero division error\n",
    "    \n",
    "except ZeroDivisionError:\n",
    "    print(\"Zero division error generated and caught\")\n",
    "    # Handled Zero value error\n",
    "    \n",
    "except ValueError:\n",
    "    print(\"Value error generated and caught\")\n",
    "        \n",
    "   # Index error is not handled\n",
    "\n",
    "print(\"code ahead .......\")   "
   ]
  },
  {
   "cell_type": "code",
   "execution_count": 10,
   "id": "094035d8",
   "metadata": {},
   "outputs": [
    {
     "name": "stdout",
     "output_type": "stream",
     "text": [
      "Enter a number6\n",
      "Enter a number9\n",
      "Else0.6666666666666666\n",
      "hello\n"
     ]
    }
   ],
   "source": [
    "a=int(input(\"Enter a number\"))\n",
    "b=int(input(\"Enter a number\"))\n",
    "\n",
    "try:\n",
    "    c=a/b\n",
    "    \n",
    "    # except will only be run if exception arises\n",
    "    \n",
    "except ZeroDivisionError:\n",
    "    print(\"Handled Zero division Error\")\n",
    "    \n",
    "    # else will only run if there is no exception arises in try block\n",
    "else:\n",
    "    print(\"Else\" +str(c))\n",
    "    \n",
    "    \n",
    "print(\"hello\")    \n",
    "        \n",
    "        "
   ]
  },
  {
   "cell_type": "markdown",
   "id": "b797a4bf",
   "metadata": {},
   "source": [
    "### Another Example ####"
   ]
  },
  {
   "cell_type": "code",
   "execution_count": 11,
   "id": "78d57762",
   "metadata": {},
   "outputs": [
    {
     "name": "stdout",
     "output_type": "stream",
     "text": [
      "First\n",
      "Enter a number6\n",
      "Enter a number2\n",
      "Enter a index3\n",
      "3.0\n",
      "4\n"
     ]
    }
   ],
   "source": [
    "print(\"First\")\n",
    "d=[1,2,3,4,5,6,7,8,9]\n",
    "try:\n",
    "    a=int(input(\"Enter a number\"))\n",
    "    b=int(input(\"Enter a number\"))\n",
    "    index=int(input(\"Enter a index\"))\n",
    "    \n",
    "    c=a/b\n",
    "    e=d[index]\n",
    "    \n",
    "except ZeroDivisionError:\n",
    "    print(\"Handdled Zero division Error\")\n",
    "except ValueError:\n",
    "    print(\"Value error reported\")\n",
    "    \n",
    "except IndexError:\n",
    "    print(\"Index error reported\")\n",
    "    \n",
    "    \n",
    "else:\n",
    "    print(c)\n",
    "    print(e)"
   ]
  },
  {
   "cell_type": "markdown",
   "id": "bdf9cefd",
   "metadata": {},
   "source": [
    "use of general exception class instaed of specific exception type"
   ]
  },
  {
   "cell_type": "code",
   "execution_count": 12,
   "id": "bb92df71",
   "metadata": {},
   "outputs": [
    {
     "name": "stdout",
     "output_type": "stream",
     "text": [
      "Enter a number6\n",
      "Enter a number3\n",
      "Exception is caught\n"
     ]
    }
   ],
   "source": [
    "d=[]\n",
    "try:\n",
    "    a=int(input(\"Enter a number\"))\n",
    "    b=int(input(\"Enter a number\"))\n",
    "    \n",
    "    c=a/b\n",
    "    e=d[5]\n",
    "    \n",
    "except: #where we did not explain the type of exception. General exception will\n",
    "        #be used means it will catch every type of exception        \n",
    "    print(\"Exception is caught\")\n",
    "        \n",
    "else:\n",
    "    print(c)\n",
    "    \n",
    "    "
   ]
  },
  {
   "cell_type": "code",
   "execution_count": null,
   "id": "233032ac",
   "metadata": {},
   "outputs": [],
   "source": [
    "# Use of general exception class instead of specific exception type\n",
    "# Getting string message out of exception class so that it may explain what type of exception arises"
   ]
  },
  {
   "cell_type": "code",
   "execution_count": 16,
   "id": "5df05102",
   "metadata": {},
   "outputs": [
    {
     "name": "stdout",
     "output_type": "stream",
     "text": [
      "Enter a number5\n",
      "Enter a number5\n",
      "Handle error ==list index out of range\n",
      "HelloWorld\n"
     ]
    }
   ],
   "source": [
    "d=[]\n",
    "try:\n",
    "    a=int(input(\"Enter a number\"))\n",
    "    b=int(input(\"Enter a number\"))\n",
    "    \n",
    "    '''built in meassage print karna hai exception ka to{except exception  as e:}\n",
    "    is mai jis trha ki exception ayegi wo uska msg khud hi utha k lae ga or print karega is code ko khud se run kare\n",
    "    or exception raise kr k dekhen'''\n",
    "    c=a/b\n",
    "    ee=d[5]\n",
    "    \n",
    "except Exception as e:\n",
    "    print(\"Handle error ==\" +str(e))\n",
    "    \n",
    "else:\n",
    "    print(c)\n",
    "    \n",
    "print('HelloWorld')    \n",
    "\n",
    "    "
   ]
  },
  {
   "cell_type": "markdown",
   "id": "bb711715",
   "metadata": {},
   "source": [
    "### Use of Finally block\n",
    "# Finally will always run\n",
    "if there is exception and code crashes but finally will run\n",
    "if there is exception and it is handled successfully,finall will run\n",
    "if there no exception arises,finall will run"
   ]
  },
  {
   "cell_type": "code",
   "execution_count": 19,
   "id": "e0345aa4",
   "metadata": {},
   "outputs": [
    {
     "ename": "SyntaxError",
     "evalue": "invalid syntax (<ipython-input-19-c7e054dc928f>, line 8)",
     "output_type": "error",
     "traceback": [
      "\u001b[1;36m  File \u001b[1;32m\"<ipython-input-19-c7e054dc928f>\"\u001b[1;36m, line \u001b[1;32m8\u001b[0m\n\u001b[1;33m    except ZeroDivisionError:\u001b[0m\n\u001b[1;37m    ^\u001b[0m\n\u001b[1;31mSyntaxError\u001b[0m\u001b[1;31m:\u001b[0m invalid syntax\n"
     ]
    }
   ],
   "source": [
    "d=[]\n",
    "\n",
    "a=int(input(\"Enter a number\"))\n",
    "b=int(input(\"Enter a number\"))\n",
    "c=a/b\n",
    "e=d[5]\n",
    "\n",
    "except ZeroDivisionError:\n",
    "    print(\"Handled Zero division Error\")\n",
    "    \n",
    "    \n",
    "else:\n",
    "    print(c)\n",
    "    \n",
    "finally:\n",
    "    print(\"Finally  will always run\")"
   ]
  },
  {
   "cell_type": "code",
   "execution_count": 28,
   "id": "daf52a52",
   "metadata": {},
   "outputs": [
    {
     "name": "stdout",
     "output_type": "stream",
     "text": [
      "Enter a number16\n",
      "Enter a number4\n",
      "Finally will always run\n"
     ]
    },
    {
     "ename": "IndexError",
     "evalue": "list index out of range",
     "output_type": "error",
     "traceback": [
      "\u001b[1;31m---------------------------------------------------------------------------\u001b[0m",
      "\u001b[1;31mIndexError\u001b[0m                                Traceback (most recent call last)",
      "\u001b[1;32m<ipython-input-28-7a076c0adfa7>\u001b[0m in \u001b[0;36m<module>\u001b[1;34m\u001b[0m\n\u001b[0;32m      4\u001b[0m     \u001b[0mb\u001b[0m \u001b[1;33m=\u001b[0m\u001b[0mint\u001b[0m\u001b[1;33m(\u001b[0m\u001b[0minput\u001b[0m\u001b[1;33m(\u001b[0m\u001b[1;34m\"Enter a number\"\u001b[0m\u001b[1;33m)\u001b[0m\u001b[1;33m)\u001b[0m\u001b[1;33m\u001b[0m\u001b[1;33m\u001b[0m\u001b[0m\n\u001b[0;32m      5\u001b[0m     \u001b[0mc\u001b[0m \u001b[1;33m=\u001b[0m \u001b[0ma\u001b[0m\u001b[1;33m/\u001b[0m\u001b[0mb\u001b[0m\u001b[1;33m\u001b[0m\u001b[1;33m\u001b[0m\u001b[0m\n\u001b[1;32m----> 6\u001b[1;33m     \u001b[0me\u001b[0m \u001b[1;33m=\u001b[0m \u001b[0md\u001b[0m\u001b[1;33m[\u001b[0m\u001b[1;36m5\u001b[0m\u001b[1;33m]\u001b[0m\u001b[1;33m\u001b[0m\u001b[1;33m\u001b[0m\u001b[0m\n\u001b[0m\u001b[0;32m      7\u001b[0m \u001b[1;33m\u001b[0m\u001b[0m\n\u001b[0;32m      8\u001b[0m \u001b[1;32mexcept\u001b[0m \u001b[0mZeroDivisionError\u001b[0m\u001b[1;33m:\u001b[0m\u001b[1;33m\u001b[0m\u001b[1;33m\u001b[0m\u001b[0m\n",
      "\u001b[1;31mIndexError\u001b[0m: list index out of range"
     ]
    }
   ],
   "source": [
    "d = []\n",
    "try:\n",
    "    a =int(input(\"Enter a number\")) \n",
    "    b =int(input(\"Enter a number\")) \n",
    "    c = a/b\n",
    "    e = d[5]\n",
    "\n",
    "except ZeroDivisionError:\n",
    "    print(\"Handel ZeroDivisionError\")\n",
    "\n",
    "else:\n",
    "    print(c)\n",
    "\n",
    "finally:\n",
    "    print(\"Finally will always run\")"
   ]
  },
  {
   "cell_type": "markdown",
   "id": "87646d52",
   "metadata": {},
   "source": [
    "### Raising our own exceptions ###\n",
    "\n",
    "We can raise exception by ourselves.only any condition we defined like if a>10 raise exception\n",
    "like if user inputs value 10 raise exception bla bla bla.....\n"
   ]
  },
  {
   "cell_type": "code",
   "execution_count": 29,
   "id": "3ad68987",
   "metadata": {},
   "outputs": [],
   "source": [
    "class Student():\n",
    "    def __init__(self,name,age):\n",
    "        if age>80 or age <16:\n",
    "            raise Exception(\"Age cannot be greater than 80 or less than 16\")\n",
    "            \n",
    "        self.name=name\n",
    "        self.age=age\n",
    "        "
   ]
  },
  {
   "cell_type": "code",
   "execution_count": 31,
   "id": "449896a8",
   "metadata": {},
   "outputs": [
    {
     "name": "stdout",
     "output_type": "stream",
     "text": [
      "Enter student age: 90\n"
     ]
    },
    {
     "ename": "Exception",
     "evalue": "Age cannot be greater than 80 or less than 16",
     "output_type": "error",
     "traceback": [
      "\u001b[1;31m---------------------------------------------------------------------------\u001b[0m",
      "\u001b[1;31mException\u001b[0m                                 Traceback (most recent call last)",
      "\u001b[1;32m<ipython-input-31-05bb4b2a4d8e>\u001b[0m in \u001b[0;36m<module>\u001b[1;34m\u001b[0m\n\u001b[0;32m      1\u001b[0m \u001b[0mage\u001b[0m\u001b[1;33m=\u001b[0m\u001b[0mint\u001b[0m\u001b[1;33m(\u001b[0m\u001b[0minput\u001b[0m\u001b[1;33m(\u001b[0m\u001b[1;34m\"Enter student age: \"\u001b[0m\u001b[1;33m)\u001b[0m\u001b[1;33m)\u001b[0m\u001b[1;33m\u001b[0m\u001b[1;33m\u001b[0m\u001b[0m\n\u001b[0;32m      2\u001b[0m \u001b[1;33m\u001b[0m\u001b[0m\n\u001b[1;32m----> 3\u001b[1;33m \u001b[0mst\u001b[0m\u001b[1;33m=\u001b[0m\u001b[0mStudent\u001b[0m\u001b[1;33m(\u001b[0m\u001b[1;34m\"Nasir\"\u001b[0m\u001b[1;33m,\u001b[0m\u001b[0mage\u001b[0m\u001b[1;33m)\u001b[0m\u001b[1;33m\u001b[0m\u001b[1;33m\u001b[0m\u001b[0m\n\u001b[0m\u001b[0;32m      4\u001b[0m \u001b[0mprint\u001b[0m\u001b[1;33m(\u001b[0m\u001b[0mst\u001b[0m\u001b[1;33m.\u001b[0m\u001b[0mage\u001b[0m\u001b[1;33m)\u001b[0m\u001b[1;33m\u001b[0m\u001b[1;33m\u001b[0m\u001b[0m\n\u001b[0;32m      5\u001b[0m \u001b[0mprint\u001b[0m\u001b[1;33m(\u001b[0m\u001b[0mst\u001b[0m\u001b[1;33m.\u001b[0m\u001b[0mname\u001b[0m\u001b[1;33m)\u001b[0m\u001b[1;33m\u001b[0m\u001b[1;33m\u001b[0m\u001b[0m\n",
      "\u001b[1;32m<ipython-input-29-624e9ea5ebca>\u001b[0m in \u001b[0;36m__init__\u001b[1;34m(self, name, age)\u001b[0m\n\u001b[0;32m      2\u001b[0m     \u001b[1;32mdef\u001b[0m \u001b[0m__init__\u001b[0m\u001b[1;33m(\u001b[0m\u001b[0mself\u001b[0m\u001b[1;33m,\u001b[0m\u001b[0mname\u001b[0m\u001b[1;33m,\u001b[0m\u001b[0mage\u001b[0m\u001b[1;33m)\u001b[0m\u001b[1;33m:\u001b[0m\u001b[1;33m\u001b[0m\u001b[1;33m\u001b[0m\u001b[0m\n\u001b[0;32m      3\u001b[0m         \u001b[1;32mif\u001b[0m \u001b[0mage\u001b[0m\u001b[1;33m>\u001b[0m\u001b[1;36m80\u001b[0m \u001b[1;32mor\u001b[0m \u001b[0mage\u001b[0m \u001b[1;33m<\u001b[0m\u001b[1;36m16\u001b[0m\u001b[1;33m:\u001b[0m\u001b[1;33m\u001b[0m\u001b[1;33m\u001b[0m\u001b[0m\n\u001b[1;32m----> 4\u001b[1;33m             \u001b[1;32mraise\u001b[0m \u001b[0mException\u001b[0m\u001b[1;33m(\u001b[0m\u001b[1;34m\"Age cannot be greater than 80 or less than 16\"\u001b[0m\u001b[1;33m)\u001b[0m\u001b[1;33m\u001b[0m\u001b[1;33m\u001b[0m\u001b[0m\n\u001b[0m\u001b[0;32m      5\u001b[0m \u001b[1;33m\u001b[0m\u001b[0m\n\u001b[0;32m      6\u001b[0m         \u001b[0mself\u001b[0m\u001b[1;33m.\u001b[0m\u001b[0mname\u001b[0m\u001b[1;33m=\u001b[0m\u001b[0mname\u001b[0m\u001b[1;33m\u001b[0m\u001b[1;33m\u001b[0m\u001b[0m\n",
      "\u001b[1;31mException\u001b[0m: Age cannot be greater than 80 or less than 16"
     ]
    }
   ],
   "source": [
    "age=int(input(\"Enter student age: \"))\n",
    "\n",
    "st=Student(\"Nasir\",age)\n",
    "print(st.age)\n",
    "print(st.name)"
   ]
  },
  {
   "cell_type": "markdown",
   "id": "d98de692",
   "metadata": {},
   "source": [
    "### Catching the exception raised by ourselves ###\n",
    "Exception catch krne k lie wahi kaam karengy k jahan se raise hone ka dar ho usko try mai daal den.\n",
    "or except mai catch karaden.Go through the code\n"
   ]
  },
  {
   "cell_type": "code",
   "execution_count": 32,
   "id": "9f176e16",
   "metadata": {},
   "outputs": [],
   "source": [
    "class Student():\n",
    "    def __init__(self,name,age):\n",
    "        if age>80 or age<16:\n",
    "            raise Exception(\"Age cannot be greather than 80 or less than 16\")\n",
    "        self.name= name\n",
    "        self.age= age\n",
    "        "
   ]
  },
  {
   "cell_type": "code",
   "execution_count": 34,
   "id": "c5751258",
   "metadata": {},
   "outputs": [
    {
     "name": "stdout",
     "output_type": "stream",
     "text": [
      "Enter student age:19\n",
      "19\n",
      "Hello\n"
     ]
    }
   ],
   "source": [
    "'''ab humne try except laga dia hai code crash nhai hoga'''\n",
    "try:\n",
    "    age=int(input(\"Enter student age:\"))\n",
    "    st=Student(\"Hello\",age) #send different ages and see the result\n",
    "    \n",
    "except Exception as e:\n",
    "    print(\"Exception\" +str(e))\n",
    "    \n",
    "else:\n",
    "    print(st.age)\n",
    "    print(st.name)"
   ]
  },
  {
   "cell_type": "markdown",
   "id": "c068b20c",
   "metadata": {},
   "source": [
    "### Crearing user defined Exception class"
   ]
  },
  {
   "cell_type": "code",
   "execution_count": 36,
   "id": "fd4b0d39",
   "metadata": {},
   "outputs": [],
   "source": [
    "class Student():\n",
    "    def __init__(self,name,age):\n",
    "        if age>80 or age<16:\n",
    "            raise StudentAgeException(\"Age cannot be greater than 80 and less than 16\")\n",
    "            #we used here own class of exception\n",
    "        self.name=name\n",
    "        self.age=age\n",
    "        \n",
    "'''All the exception rised are derived from a class exception by default We can make our own class of exception and can\n",
    "derived(inherit) it fronm parent Exception class like this:'''\n",
    "\n",
    "class StudentAgeException(Exception):\n",
    "    pass\n"
   ]
  },
  {
   "cell_type": "code",
   "execution_count": 39,
   "id": "aee0101a",
   "metadata": {},
   "outputs": [
    {
     "name": "stdout",
     "output_type": "stream",
     "text": [
      "Enter Student age:12\n"
     ]
    },
    {
     "ename": "StudentAgeException",
     "evalue": "Age cannot be greater than 80 and less than 16",
     "output_type": "error",
     "traceback": [
      "\u001b[1;31m---------------------------------------------------------------------------\u001b[0m",
      "\u001b[1;31mStudentAgeException\u001b[0m                       Traceback (most recent call last)",
      "\u001b[1;32m<ipython-input-39-4c18b4267315>\u001b[0m in \u001b[0;36m<module>\u001b[1;34m\u001b[0m\n\u001b[0;32m      1\u001b[0m \u001b[0mage\u001b[0m\u001b[1;33m=\u001b[0m\u001b[0mint\u001b[0m\u001b[1;33m(\u001b[0m\u001b[0minput\u001b[0m\u001b[1;33m(\u001b[0m\u001b[1;34m\"Enter Student age:\"\u001b[0m\u001b[1;33m)\u001b[0m\u001b[1;33m)\u001b[0m\u001b[1;33m\u001b[0m\u001b[1;33m\u001b[0m\u001b[0m\n\u001b[1;32m----> 2\u001b[1;33m \u001b[0mst\u001b[0m\u001b[1;33m=\u001b[0m\u001b[0mStudent\u001b[0m\u001b[1;33m(\u001b[0m\u001b[1;34m\"Hello\"\u001b[0m\u001b[1;33m,\u001b[0m\u001b[0mage\u001b[0m\u001b[1;33m)\u001b[0m\u001b[1;33m\u001b[0m\u001b[1;33m\u001b[0m\u001b[0m\n\u001b[0m\u001b[0;32m      3\u001b[0m \u001b[1;31m#it is creating exception thatis not handled\u001b[0m\u001b[1;33m\u001b[0m\u001b[1;33m\u001b[0m\u001b[1;33m\u001b[0m\u001b[0m\n\u001b[0;32m      4\u001b[0m \u001b[0mprint\u001b[0m\u001b[1;33m(\u001b[0m\u001b[0mst\u001b[0m\u001b[1;33m.\u001b[0m\u001b[0mage\u001b[0m\u001b[1;33m)\u001b[0m\u001b[1;33m\u001b[0m\u001b[1;33m\u001b[0m\u001b[0m\n\u001b[0;32m      5\u001b[0m \u001b[1;33m\u001b[0m\u001b[0m\n",
      "\u001b[1;32m<ipython-input-36-3fa0cffcdd61>\u001b[0m in \u001b[0;36m__init__\u001b[1;34m(self, name, age)\u001b[0m\n\u001b[0;32m      2\u001b[0m     \u001b[1;32mdef\u001b[0m \u001b[0m__init__\u001b[0m\u001b[1;33m(\u001b[0m\u001b[0mself\u001b[0m\u001b[1;33m,\u001b[0m\u001b[0mname\u001b[0m\u001b[1;33m,\u001b[0m\u001b[0mage\u001b[0m\u001b[1;33m)\u001b[0m\u001b[1;33m:\u001b[0m\u001b[1;33m\u001b[0m\u001b[1;33m\u001b[0m\u001b[0m\n\u001b[0;32m      3\u001b[0m         \u001b[1;32mif\u001b[0m \u001b[0mage\u001b[0m\u001b[1;33m>\u001b[0m\u001b[1;36m80\u001b[0m \u001b[1;32mor\u001b[0m \u001b[0mage\u001b[0m\u001b[1;33m<\u001b[0m\u001b[1;36m16\u001b[0m\u001b[1;33m:\u001b[0m\u001b[1;33m\u001b[0m\u001b[1;33m\u001b[0m\u001b[0m\n\u001b[1;32m----> 4\u001b[1;33m             \u001b[1;32mraise\u001b[0m \u001b[0mStudentAgeException\u001b[0m\u001b[1;33m(\u001b[0m\u001b[1;34m\"Age cannot be greater than 80 and less than 16\"\u001b[0m\u001b[1;33m)\u001b[0m\u001b[1;33m\u001b[0m\u001b[1;33m\u001b[0m\u001b[0m\n\u001b[0m\u001b[0;32m      5\u001b[0m             \u001b[1;31m#we used here own class of exception\u001b[0m\u001b[1;33m\u001b[0m\u001b[1;33m\u001b[0m\u001b[1;33m\u001b[0m\u001b[0m\n\u001b[0;32m      6\u001b[0m         \u001b[0mself\u001b[0m\u001b[1;33m.\u001b[0m\u001b[0mname\u001b[0m\u001b[1;33m=\u001b[0m\u001b[0mname\u001b[0m\u001b[1;33m\u001b[0m\u001b[1;33m\u001b[0m\u001b[0m\n",
      "\u001b[1;31mStudentAgeException\u001b[0m: Age cannot be greater than 80 and less than 16"
     ]
    }
   ],
   "source": [
    "age=int(input(\"Enter Student age:\"))\n",
    "st=Student(\"Hello\",age)\n",
    "#it is creating exception thatis not handled\n",
    "print(st.age)\n",
    "\n",
    "#### Note ####\n",
    "'''exception raise karane k lie humne  Exception python ki general wali use nhai kiii hy\n",
    "abhi code crash hogaya hai q k  abhi humne exception  catch nhai ki hy'''"
   ]
  },
  {
   "cell_type": "markdown",
   "id": "b83af4f8",
   "metadata": {},
   "source": [
    "\n",
    "### Raising and catching our own exception defined in our own exception class\n"
   ]
  },
  {
   "cell_type": "code",
   "execution_count": 47,
   "id": "85afb5d0",
   "metadata": {},
   "outputs": [
    {
     "name": "stdout",
     "output_type": "stream",
     "text": [
      "Enter namemaryam\n",
      "Enter Student age:20\n",
      "20\n",
      "maryam\n"
     ]
    }
   ],
   "source": [
    "class Student():\n",
    "    def __init__(self,name,age):\n",
    "        if age>80 or age <16:\n",
    "            raise StudentAgeException(\"Age cannot be greater than 80 and less then 16\")\n",
    "        elif name==\"areeba\":\n",
    "            raise nameAcception(\"Name cannot a teacher name\")\n",
    "        self.name=name\n",
    "        self.age=age\n",
    "            \n",
    "class StudentAgeException(Exception):\n",
    "    pass\n",
    "\n",
    "class nameAcception(Exception):\n",
    "    pass\n",
    "\n",
    "try:\n",
    "    name=input(\"Enter name\")\n",
    "    age=int(input(\"Enter Student age:\"))\n",
    "    \n",
    "    st=Student(name,age)\n",
    "    \n",
    "except StudentAgeException as e:\n",
    "    print(\"StudentAge Exception==\" +str(e))\n",
    "    \n",
    "    \n",
    "else:\n",
    "    print(st.age)\n",
    "    print(st.name)\n",
    "    \n",
    "    "
   ]
  },
  {
   "cell_type": "code",
   "execution_count": null,
   "id": "0eaca5e7",
   "metadata": {},
   "outputs": [],
   "source": []
  }
 ],
 "metadata": {
  "kernelspec": {
   "display_name": "Python 3",
   "language": "python",
   "name": "python3"
  },
  "language_info": {
   "codemirror_mode": {
    "name": "ipython",
    "version": 3
   },
   "file_extension": ".py",
   "mimetype": "text/x-python",
   "name": "python",
   "nbconvert_exporter": "python",
   "pygments_lexer": "ipython3",
   "version": "3.8.8"
  }
 },
 "nbformat": 4,
 "nbformat_minor": 5
}
